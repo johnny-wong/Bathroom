{
 "cells": [
  {
   "cell_type": "markdown",
   "metadata": {},
   "source": [
    "# Introduction\n",
    "This year (2018), I lived in a 4 bedroom house with one bathroom. There were times when I wanted to shower, but couldn't as there was someone already using the bathroom. I've often wondered about what the relationship is between the number of people and number of bathrooms and the time spent waiting for one to free up.\n",
    "\n",
    "Throughout my life, I've lived in many other arrangements. At home, there are 2 of us with 2 bathrooms, at college there were 2 cubicles for 10 of us. In 2016 I lived in a 3 bedroom and 1 bathroom. Let's see if we can predict how much waiting time there'd be based on the number of people and number of bathrooms."
   ]
  },
  {
   "cell_type": "code",
   "execution_count": 1,
   "metadata": {
    "collapsed": true
   },
   "outputs": [],
   "source": [
    "import numpy as np\n",
    "import pandas as pd\n",
    "import seaborn as sns\n",
    "import matplotlib.pyplot as plt\n",
    "\n",
    "% matplotlib inline"
   ]
  },
  {
   "cell_type": "markdown",
   "metadata": {},
   "source": [
    "## Markov chain\n",
    "One natural method of modelling this scenario is with a Markov chain. The way a Markov chain works is by describing a system with a number of states, and describing the probability of moving from state to state. \n",
    "\n",
    "\n",
    "### States\n",
    "In this scenario, the number of people wanting to or currently using the bathroom will define each state. So state 0 means that no one is using the bathroom, and state 2 means 2 people are wanting to use the bathroom, maybe one person is using the only bathroom and one person is waiting, or maybe there are two bathrooms and are both being used, or even there are 3 bathrooms and one is still free. How can we deal with this distinction?\n",
    "\n",
    "Let's define $n$ as the number of people in the household, $k$ define the number of bathrooms available. This scenario is only interesting if there are less bathrooms than people, giving rise to the possibility that someone cannot use the bathroom if they wanted to because they are all full. So let's assume $n > k$.\n",
    "\n",
    "Since there are $n$ people, there will be $n + 1$ states: $0, 1, \\cdots , n$"
   ]
  },
  {
   "cell_type": "code",
   "execution_count": 2,
   "metadata": {
    "collapsed": true
   },
   "outputs": [],
   "source": [
    "n = 4 # Number of people\n",
    "k = 2 # Number of bathrooms"
   ]
  },
  {
   "cell_type": "markdown",
   "metadata": {},
   "source": [
    "### Moving between states\n",
    "Now that we've defined the states, we need to define a [transition rate matrix](https://en.wikipedia.org/wiki/Transition_rate_matrix), $Q$. The element $q_{i, j}$ represents the transition rate of moving from state $i$ to $j$. Note that indexing starts at 0, so $q_{0, 0}$ is the topleft element in the Q matrix.\n",
    "\n",
    "Suppose there are 5 people living in the house and 2 people already in the bathroom, there are 3 other people that have the potential to need to go too. So the transition rate to the higher state is simply $ 3 \\lambda $. Since there are 2 in the bathroom, both with the potential to come out, the transition rate to the lower state is $ 2 \\mu $.\n",
    "\n",
    "This can be generalised as:\n",
    "$$ q_{i, i+1} = (n-i)\\,\\lambda \\qquad \\text{ for } i < n $$\n",
    "$$ q_{i, i-1} = \\min(k, i)\\,\\mu \\qquad \\text{ for } i > 0 $$\n",
    "$$ q_{i, j} = 0 \\qquad \\text{for all other} \\: i \\neq j $$\n",
    "\n",
    "Note that the $\\min(k, i)$ is to cap the transition rate to the lower level. We're assuming people won't suddenly decide they don't need to go without having been!"
   ]
  },
  {
   "cell_type": "markdown",
   "metadata": {},
   "source": [
    "### Setting constants\n",
    "The normal number of times someone goes to the toilet is [6 to 7 times per day](https://www.bladderandbowel.org/bladder/bladder-conditions-and-symptoms/frequency/). Of course, most people are asleep [7 to 8 hours a day](https://www.medscape.org/viewarticle/511229). So approximate the rate as 6 times every 17 hours.\n",
    "\n",
    "On average, [one hour and 42 minutes](https://www.scotsman.com/news/how-long-do-we-spend-in-bathroom-1-189-years-1-1072528) is spent going to the toilet each week, and another one hour and 25 minutes in the shower. In other words, 187 minutes per week, roughly 4 and a half minutes per visit."
   ]
  },
  {
   "cell_type": "code",
   "execution_count": 3,
   "metadata": {
    "collapsed": true
   },
   "outputs": [],
   "source": [
    "trips_per_day = 6.5\n",
    "# Rate of going into bathroom, underscore as lambda is Python keyword 17/24 represents the hours we are awake\n",
    "lambda_ = trips_per_day / 24.0 / 60.0 / (17/24.0) \n",
    "\n",
    "avg_minutes_spent = 4.5\n",
    "mu = 1/avg_minutes_spent # Rate of leaving"
   ]
  },
  {
   "cell_type": "code",
   "execution_count": 4,
   "metadata": {},
   "outputs": [
    {
     "data": {
      "text/plain": [
       "array([[-0.0254902 ,  0.0254902 ,  0.        ,  0.        ,  0.        ],\n",
       "       [ 0.22222222, -0.24133987,  0.01911765,  0.        ,  0.        ],\n",
       "       [ 0.        ,  0.44444444, -0.45718954,  0.0127451 ,  0.        ],\n",
       "       [ 0.        ,  0.        ,  0.44444444, -0.45081699,  0.00637255],\n",
       "       [ 0.        ,  0.        ,  0.        ,  0.44444444, -0.44444444]])"
      ]
     },
     "execution_count": 4,
     "metadata": {},
     "output_type": "execute_result"
    }
   ],
   "source": [
    "Q = np.zeros((n + 1, n + 1))\n",
    "for i in range(n + 1):\n",
    "    if i < n:\n",
    "        Q[i][i+1] = (n-i) * lambda_\n",
    "    if i > 0:\n",
    "        Q[i][i-1] = min(k, i) * mu\n",
    "    \n",
    "    Q[i][i] = - sum(Q[i, :])\n",
    "Q"
   ]
  },
  {
   "cell_type": "markdown",
   "metadata": {},
   "source": [
    "### Finding the long run probabilities\n",
    "Given the system is defined as it is, what is the asymptotic proportion of time the system is spent in each state?\n",
    "\n",
    "Let $\\pi_i$ represent the proportion of time the system is spend in state $i$. Because these are proportions, we need the values to satisfy $\\sum_i \\pi_i = 1 $.\n",
    "\n",
    "How can we work out what these proportions are? Since we want to look at proportions as time goes to infinity, we are really trying to find an equilibrium in the system. In an equilibrium, everything balances perfectly, and in this context, balance can be represented as:\n",
    "$$ \\pi_i  \\times -q_{i, i} = \\sum_{i \\neq j} \\pi_j \\times q_{j, i} $$\n",
    "On the left hand side, we have the rate of transition OUT of state i as time goes to infinity. On the right, we have the rate of transition INTO state i as time goes to infinity. Equating these imply we have reached a sort of equilibrium.\n",
    "\n",
    "Another way of writing this is\n",
    "$$ 0 = \\pi_i  \\times q_{i, i} + \\sum_{i \\neq j} \\pi_j \\times q_{j, i} \\qquad \\text{for all i}$$\n",
    "Now let's define the vector *$\\vec{\\pi} = (\\pi_0, ..., \\pi_n)$*\n",
    "\n",
    "Another way to write the above equations is now:\n",
    "$$\\vec{0} = \\vec{\\pi}Q$$\n",
    "\n",
    "This is a [homogeneous system](https://en.wikipedia.org/wiki/System_of_linear_equations#Homogeneous_systems), meaning that $\\vec{\\pi} = \\vec{0}$ is always a solution. Obviously, this is not useful, and we need another constraint:\n",
    "$$\\vec{\\pi} \\cdot \\vec{1} = 1 $$\n",
    "\n",
    "To represent this all in matrix form, let $R$ represent the matrix $Q$ with an extra column at the end whose elements are all 1. Then:\n",
    "$$\\vec{\\pi} R = (0, ..., 0, 1) = \\vec{b} $$\n",
    "Where the RHS is a vector of n+1 0s and one 1, defined as $\\vec{b}$.\n",
    "\n",
    "Let's rearrange this to a more conventional $A\\vec{x} = \\vec{b}$ format by transposing everything.\n",
    "$$ A \\vec{\\pi} = \\vec{b} $$\n",
    "Where $A=R^T$ and $\\vec{\\pi},\\,\\vec{b}$ are column vectors.\n"
   ]
  },
  {
   "cell_type": "code",
   "execution_count": 5,
   "metadata": {},
   "outputs": [
    {
     "data": {
      "text/plain": [
       "array([  8.93029815e-01,   1.02435773e-01,   4.40624464e-03,\n",
       "         1.26355545e-04,   1.81171553e-06])"
      ]
     },
     "execution_count": 5,
     "metadata": {},
     "output_type": "execute_result"
    }
   ],
   "source": [
    "R = np.c_[Q, np.ones((n+1, 1))]\n",
    "A = R.T\n",
    "b = np.append(np.zeros(n+1), 1)\n",
    "pi, residuals, rank, s = np.linalg.lstsq(A, b)\n",
    "pi"
   ]
  },
  {
   "cell_type": "markdown",
   "metadata": {},
   "source": [
    "### Check\n",
    "To verify that this is correct, simply substitute the solution back into the equation and see whether the equality holds. That is, $$\\vec{0} = \\vec{\\pi}Q$$"
   ]
  },
  {
   "cell_type": "code",
   "execution_count": 6,
   "metadata": {
    "collapsed": true
   },
   "outputs": [],
   "source": [
    "assert all(np.matmul(pi, Q) < 1e-10)"
   ]
  },
  {
   "cell_type": "markdown",
   "metadata": {},
   "source": [
    "#### SVD decomposition\n",
    "Another way to solve for $\\vec{\\pi}$ is through SVD. Given a matrix, $Q^T$, SVD will decompose it into:\n",
    "$$ Q^T = U\\Sigma V^T$$\n",
    "THere are more details on [here](https://www.ecse.rpi.edu/~qji/CV/svd_review.pdf), but $\\Sigma$ is a [diagonal matrix](https://en.wikipedia.org/wiki/Diagonal_matrix) and we are interested in the element on the diagonal that equals 0.\n",
    "\n",
    "The columns of $V$ (rows of matrix on the right, $V^T$) represent basis vectors for the null space of $Q$, meaning all solutions to $Q^T \\vec{\\pi} = \\vec{0} $ can be constructed using a linear combination of those columns."
   ]
  },
  {
   "cell_type": "code",
   "execution_count": 7,
   "metadata": {},
   "outputs": [
    {
     "data": {
      "text/plain": [
       "array([[ 0.84,  0.  ,  0.  ,  0.  ,  0.  ],\n",
       "       [ 0.  ,  0.65,  0.  ,  0.  ,  0.  ],\n",
       "       [ 0.  ,  0.  ,  0.39,  0.  ,  0.  ],\n",
       "       [ 0.  ,  0.  ,  0.  ,  0.21,  0.  ],\n",
       "       [ 0.  ,  0.  ,  0.  ,  0.  ,  0.  ]])"
      ]
     },
     "execution_count": 7,
     "metadata": {},
     "output_type": "execute_result"
    }
   ],
   "source": [
    "U, S, V_T = np.linalg.svd(Q.T)\n",
    "np.diag(S.round(2))"
   ]
  },
  {
   "cell_type": "markdown",
   "metadata": {},
   "source": [
    "By convention, the decomposition is reordered so that the non zero entries os $\\Sigma$ are in descending order. Now we simply find the basis vectors for the null space."
   ]
  },
  {
   "cell_type": "code",
   "execution_count": 8,
   "metadata": {
    "collapsed": true
   },
   "outputs": [],
   "source": [
    "zero_pos = [i for i, s in enumerate(S) if abs(s) < 1e-10]\n",
    "basis_vector = V_T.T[:,zero_pos]"
   ]
  },
  {
   "cell_type": "markdown",
   "metadata": {},
   "source": [
    "Once finding the basis vector, we know that the solution is the basis vector multiplied by some constant. With the only constraint being that the sum of its elements equal to 1. Finding the correct solution is very easy from here; just divide each element by the sum of all the elements."
   ]
  },
  {
   "cell_type": "code",
   "execution_count": 9,
   "metadata": {},
   "outputs": [
    {
     "name": "stdout",
     "output_type": "stream",
     "text": [
      "[[  8.93029815e-01]\n",
      " [  1.02435773e-01]\n",
      " [  4.40624464e-03]\n",
      " [  1.26355545e-04]\n",
      " [  1.81171553e-06]]\n"
     ]
    }
   ],
   "source": [
    "pi_svd = basis_vector/sum(basis_vector)\n",
    "print(pi_svd)\n",
    "\n",
    "assert np.all(abs(pi_svd.flatten() - pi) < 1e-10) == True # Check with previous answer"
   ]
  },
  {
   "cell_type": "markdown",
   "metadata": {},
   "source": [
    "#### Using inverses\n",
    "We already have $\\vec{\\pi}Q = \\vec{0}$ and $\\vec{\\pi} \\cdot \\vec{1} = 1 $\n",
    "Another way to write $\\vec{\\pi} \\cdot \\vec{1} = 1 $ is \n",
    "$$\\vec{\\pi} E = \\vec{1} $$\n",
    "Where E is the appropriately sized square matrix with 1 as all its elements.\n",
    "\n",
    "Thus we are left with\n",
    "$$\\vec{\\pi}Q = \\vec{0}$$\n",
    "$$\\vec{\\pi} E = \\vec{1} $$\n",
    "$$ \\vec{\\pi}(Q+E) = \\vec{1} $$\n",
    "$$ \\vec{\\pi} = \\vec{1}(Q+E)^{-1} $$"
   ]
  },
  {
   "cell_type": "code",
   "execution_count": 26,
   "metadata": {},
   "outputs": [
    {
     "name": "stdout",
     "output_type": "stream",
     "text": [
      "[[  8.93029815e-01   1.02435773e-01   4.40624464e-03   1.26355545e-04\n",
      "    1.81171553e-06]]\n"
     ]
    },
    {
     "data": {
      "text/plain": [
       "True"
      ]
     },
     "execution_count": 26,
     "metadata": {},
     "output_type": "execute_result"
    }
   ],
   "source": [
    "E = np.ones(shape=(n+1, n+1))\n",
    "\n",
    "pi_inverse = np.matmul(np.ones(shape=(1, n+1)), np.linalg.inv(Q + E))\n",
    "\n",
    "print(pi_inverse)\n",
    "\n",
    "assert np.all(np.matmul(pi_inverse, Q) < 1e-10)"
   ]
  },
  {
   "cell_type": "markdown",
   "metadata": {},
   "source": [
    "## Proportion of time\n",
    "Now we want to find the proportion of time that someone wants to use the bathroom but is unable to. So we want $\\sum_{i>k}\\pi_i$"
   ]
  },
  {
   "cell_type": "code",
   "execution_count": 10,
   "metadata": {},
   "outputs": [
    {
     "data": {
      "text/plain": [
       "0.00012816726046847171"
      ]
     },
     "execution_count": 10,
     "metadata": {},
     "output_type": "execute_result"
    }
   ],
   "source": [
    "sum(pi[k+1:])"
   ]
  },
  {
   "cell_type": "markdown",
   "metadata": {},
   "source": [
    "## Compare different combinations\n",
    "Now that we know how to find the proportion of time, let's compare how this proportion changes as $n$, $k$ change.\n",
    "\n",
    "First, let's wrap the above calculation into a function."
   ]
  },
  {
   "cell_type": "code",
   "execution_count": 45,
   "metadata": {
    "collapsed": true
   },
   "outputs": [],
   "source": [
    "def min_waiting(n, k, trips_per_day=6.5, avg_minutes_spent=4.5, per_individual=False):\n",
    "    ''' n people in a house with k bathrooms. \n",
    "    lambda_ times each person on average uses the bathroom per minute. \n",
    "    mu minutes spent on average in the bathroom per use.\n",
    "    If per_individual is set to True, calculates the expected time any one individual will wait each day\n",
    "    Returns the number of minutes per day expected that someone can't use the bathroom\n",
    "    '''\n",
    "\n",
    "    # Rate of going into bathroom, underscore as lambda is Python keyword 17/24 represents the hours we are awake\n",
    "    lambda_ = trips_per_day / 24.0 / 60.0 / (17/24.0) \n",
    "\n",
    "    mu = 1/avg_minutes_spent # Rate of leaving\n",
    "    \n",
    "    # Transition matrix\n",
    "    Q = np.zeros((n + 1, n + 1))\n",
    "    for i in range(n + 1):\n",
    "        if i < n:\n",
    "            Q[i][i+1] = (n-i) * lambda_\n",
    "        if i > 0:\n",
    "            Q[i][i-1] = min(k, i) * mu\n",
    "\n",
    "        Q[i][i] = - sum(Q[i, :])\n",
    "    \n",
    "    # Method 3 inverse\n",
    "    E = np.ones(shape=(n+1, n+1))\n",
    "    pi = np.matmul(np.ones(shape=(1, n+1)), np.linalg.inv(Q + E))\n",
    "    pi = pi.reshape(n+1)\n",
    "    assert np.all(np.matmul(pi, Q) < 1e-10)\n",
    "\n",
    "    if per_individual:\n",
    "        ppl_minutes = 0\n",
    "        for ppl_waiting, time in enumerate(pi[k:]):\n",
    "            ppl_minutes += ppl_waiting * time\n",
    "        prop_cant_use = ppl_minutes/n\n",
    "    else:\n",
    "        prop_cant_use = sum(pi[k+1:])\n",
    "\n",
    "    min_cant_use_per_day = prop_cant_use * (24 * 60.0) * (17/24) # 17/24 because waking hours\n",
    "    return min_cant_use_per_day"
   ]
  },
  {
   "cell_type": "code",
   "execution_count": 47,
   "metadata": {},
   "outputs": [
    {
     "data": {
      "text/plain": [
       "9.473599031042772"
      ]
     },
     "execution_count": 47,
     "metadata": {},
     "output_type": "execute_result"
    }
   ],
   "source": [
    "min_waiting(4,1, per_individual=False)"
   ]
  },
  {
   "cell_type": "code",
   "execution_count": 48,
   "metadata": {},
   "outputs": [
    {
     "data": {
      "text/plain": [
       "2.5040234912100945"
      ]
     },
     "execution_count": 48,
     "metadata": {},
     "output_type": "execute_result"
    }
   ],
   "source": [
    "min_waiting(4,1, per_individual=True)"
   ]
  },
  {
   "cell_type": "markdown",
   "metadata": {},
   "source": [
    "### Run calculations"
   ]
  },
  {
   "cell_type": "code",
   "execution_count": 14,
   "metadata": {
    "collapsed": true
   },
   "outputs": [],
   "source": [
    "MAX_PEOPLE = 10\n",
    "MAX_BATHROOM = 4\n",
    "\n",
    "results = pd.DataFrame(0.0, index=range(MAX_PEOPLE, 1, -1), columns=range(1, MAX_BATHROOM + 1))\n",
    "results.index.name = 'Num_people'\n",
    "\n",
    "for num_people in range(2, MAX_PEOPLE + 1):\n",
    "    for num_bathroom in range(1, min(num_people, MAX_BATHROOM + 1)):\n",
    "        results[num_bathroom][num_people] = min_waiting(num_people, num_bathroom, per_individual=True)"
   ]
  },
  {
   "cell_type": "markdown",
   "metadata": {},
   "source": [
    "### Visualise\n",
    "Using heatmap to visualise"
   ]
  },
  {
   "cell_type": "code",
   "execution_count": 15,
   "metadata": {
    "collapsed": true
   },
   "outputs": [],
   "source": [
    "plt.rcParams['figure.figsize'] = [10, 10]"
   ]
  },
  {
   "cell_type": "code",
   "execution_count": 16,
   "metadata": {},
   "outputs": [
    {
     "data": {
      "image/png": "[encoded data removed]",
      "text/plain": [
       "<matplotlib.figure.Figure at 0x219b1221d68>"
      ]
     },
     "metadata": {},
     "output_type": "display_data"
    }
   ],
   "source": [
    "sns.heatmap(results, annot=True, annot_kws={\"size\": 15})\n",
    "plt.xlabel('Number of bathrooms')\n",
    "plt.ylabel('Number of people')\n",
    "plt.title('Expected minutes per day waiting to use the bathroom')\n",
    "plt.show()"
   ]
  },
  {
   "cell_type": "markdown",
   "metadata": {},
   "source": [
    "### Results\n",
    "As expected, the more people there are, the longer the expected wait time. And the more bathrooms there are, the shorter. What is interesting, however, is how drastically each additional bathroom can reduce the wait time. In fact, having 10 people using 2 bathrooms will clash less than having 3 people use 1! \n",
    "\n",
    "#### Correct interpretation\n",
    "To be clear, the numbers above don't represent the average amount of minutes each person can expect to be waiting. It is the expected amount of minutes that ANY person in the house is waiting each day. If you want to calculate the expected wait time for each person, we have to think about it differently.\n",
    "\n",
    "It might be tempting to simply divide the number of minutes by the number of people, but it's not quite so simple. To demonstrate why, consider two people waiting. Person 1 starts waiting at 12:00, and manages to go at 12:15, person 2 starts waiting as 12:05 and manages to go at 12:20. They've eached waited 15 minutes, but the total amount of minutes any person was waiting in the house is only 20 minutes. Although they were both waiting from 12:05 to 12:15, this measure doesn't double up the wait time."
   ]
  },
  {
   "cell_type": "markdown",
   "metadata": {},
   "source": [
    "### Expected wait time per person\n",
    "We've calculated the expected amount minutes per day anyone is waiting in the house, but you're probably more interested in how many minutes YOU can expect to wait each day.\n",
    "\n",
    "As we saw from above, we can't simply take the first number and divide it by the number of people in the house. One way to do it is to calculate the sum of everyone's expected wait time and divide it by the number of people. In the above example, we had 2 people waiting 15 minutes each, so the calculation would be (15 + 15)/2.\n",
    "\n",
    "To calculate the total of everyone's wait time, we have to split up the house's total wait time into how many people were waiting at the time. In the above example, we know that there were 10 minutes (12:00 - 12:05 and 12:15-12:20) where one person was waiting, and 10 minutes (12:05 - 12:15) where 2 people were waiting. So the sum of each person's wait time is $10 \\times 1 + 10 \\times 2 = 30$.\n",
    "\n",
    "So "
   ]
  },
  {
   "cell_type": "code",
   "execution_count": 17,
   "metadata": {},
   "outputs": [
    {
     "ename": "NameError",
     "evalue": "name 'prop_not_free' is not defined",
     "output_type": "error",
     "traceback": [
      "\u001b[1;31m---------------------------------------------------------------------------\u001b[0m",
      "\u001b[1;31mNameError\u001b[0m                                 Traceback (most recent call last)",
      "\u001b[1;32m<ipython-input-17-fdd20719fab2>\u001b[0m in \u001b[0;36m<module>\u001b[1;34m()\u001b[0m\n\u001b[0;32m      7\u001b[0m \u001b[1;32mfor\u001b[0m \u001b[0mnum_people\u001b[0m \u001b[1;32min\u001b[0m \u001b[0mrange\u001b[0m\u001b[1;33m(\u001b[0m\u001b[1;36m2\u001b[0m\u001b[1;33m,\u001b[0m \u001b[0mMAX_PEOPLE\u001b[0m \u001b[1;33m+\u001b[0m \u001b[1;36m1\u001b[0m\u001b[1;33m)\u001b[0m\u001b[1;33m:\u001b[0m\u001b[1;33m\u001b[0m\u001b[0m\n\u001b[0;32m      8\u001b[0m     \u001b[1;32mfor\u001b[0m \u001b[0mnum_bathroom\u001b[0m \u001b[1;32min\u001b[0m \u001b[0mrange\u001b[0m\u001b[1;33m(\u001b[0m\u001b[1;36m1\u001b[0m\u001b[1;33m,\u001b[0m \u001b[0mmin\u001b[0m\u001b[1;33m(\u001b[0m\u001b[0mnum_people\u001b[0m\u001b[1;33m,\u001b[0m \u001b[0mMAX_BATHROOM\u001b[0m \u001b[1;33m+\u001b[0m \u001b[1;36m1\u001b[0m\u001b[1;33m)\u001b[0m\u001b[1;33m)\u001b[0m\u001b[1;33m:\u001b[0m\u001b[1;33m\u001b[0m\u001b[0m\n\u001b[1;32m----> 9\u001b[1;33m         \u001b[0mresults\u001b[0m\u001b[1;33m[\u001b[0m\u001b[0mnum_bathroom\u001b[0m\u001b[1;33m]\u001b[0m\u001b[1;33m[\u001b[0m\u001b[0mnum_people\u001b[0m\u001b[1;33m]\u001b[0m \u001b[1;33m=\u001b[0m \u001b[0mprop_not_free\u001b[0m\u001b[1;33m(\u001b[0m\u001b[0mnum_people\u001b[0m\u001b[1;33m,\u001b[0m \u001b[0mnum_bathroom\u001b[0m\u001b[1;33m,\u001b[0m \u001b[0mper_individual\u001b[0m\u001b[1;33m=\u001b[0m\u001b[1;32mTrue\u001b[0m\u001b[1;33m)\u001b[0m\u001b[1;33m\u001b[0m\u001b[0m\n\u001b[0m\u001b[0;32m     10\u001b[0m \u001b[1;33m\u001b[0m\u001b[0m\n\u001b[0;32m     11\u001b[0m \u001b[0msns\u001b[0m\u001b[1;33m.\u001b[0m\u001b[0mheatmap\u001b[0m\u001b[1;33m(\u001b[0m\u001b[0mresults\u001b[0m\u001b[1;33m,\u001b[0m \u001b[0mannot\u001b[0m\u001b[1;33m=\u001b[0m\u001b[1;32mTrue\u001b[0m\u001b[1;33m,\u001b[0m \u001b[0mannot_kws\u001b[0m\u001b[1;33m=\u001b[0m\u001b[1;33m{\u001b[0m\u001b[1;34m\"size\"\u001b[0m\u001b[1;33m:\u001b[0m \u001b[1;36m15\u001b[0m\u001b[1;33m}\u001b[0m\u001b[1;33m)\u001b[0m\u001b[1;33m\u001b[0m\u001b[0m\n",
      "\u001b[1;31mNameError\u001b[0m: name 'prop_not_free' is not defined"
     ]
    }
   ],
   "source": [
    "MAX_PEOPLE = 10\n",
    "MAX_BATHROOM = 4\n",
    "\n",
    "results = pd.DataFrame(0.0, index=range(MAX_PEOPLE, 1, -1), columns=range(1, MAX_BATHROOM + 1))\n",
    "results.index.name = 'Num_people'\n",
    "\n",
    "for num_people in range(2, MAX_PEOPLE + 1):\n",
    "    for num_bathroom in range(1, min(num_people, MAX_BATHROOM + 1)):\n",
    "        results[num_bathroom][num_people] = prop_not_free(num_people, num_bathroom, per_individual=True)\n",
    "\n",
    "sns.heatmap(results, annot=True, annot_kws={\"size\": 15})\n",
    "plt.xlabel('Number of bathrooms')\n",
    "plt.ylabel('Number of people')\n",
    "plt.title('Expected minutes per day for any one individual to wait for the bathroom')\n",
    "plt.show()"
   ]
  },
  {
   "cell_type": "markdown",
   "metadata": {},
   "source": [
    "I wanted to see whether the effect was still so drastic if we increase the average time spent in the bathroom per visit"
   ]
  },
  {
   "cell_type": "code",
   "execution_count": null,
   "metadata": {},
   "outputs": [],
   "source": [
    "MAX_PEOPLE = 10\n",
    "MAX_BATHROOM = 4\n",
    "\n",
    "\n",
    "results = pd.DataFrame(0.0, index=range(MAX_PEOPLE, 1, -1), columns=range(1, MAX_BATHROOM + 1))\n",
    "results.index.name = 'Num_people'\n",
    "\n",
    "for num_people in range(2, MAX_PEOPLE + 1):\n",
    "    for num_bathroom in range(1, min(num_people, MAX_BATHROOM + 1)):\n",
    "        results[num_bathroom][num_people] = prop_not_free(num_people, num_bathroom, avg_minutes_spent=15)\n",
    "\n",
    "sns.heatmap(results, annot=True, annot_kws={\"size\": 12})\n",
    "plt.xlabel('Number of bathrooms')\n",
    "plt.ylabel('Number of people')\n",
    "plt.title('Expected minutes per day where \\nsomeone is waiting to use the bathroom')\n",
    "plt.show()"
   ]
  },
  {
   "cell_type": "markdown",
   "metadata": {},
   "source": [
    "The effect is still quite drastic, but not as drastic as before. In the scenario where the average bathroom visit is 15 minutes, 3 people sharing 1 is better than 10 people sharing 2. It is not until we get to 7 people sharing 2 where we have a *slight* improvement on 3 people sharing 1."
   ]
  }
 ],
 "metadata": {
  "kernelspec": {
   "display_name": "Python 3",
   "language": "python",
   "name": "python3"
  },
  "language_info": {
   "codemirror_mode": {
    "name": "ipython",
    "version": 3
   },
   "file_extension": ".py",
   "mimetype": "text/x-python",
   "name": "python",
   "nbconvert_exporter": "python",
   "pygments_lexer": "ipython3",
   "version": "3.6.3"
  }
 },
 "nbformat": 4,
 "nbformat_minor": 2
}
